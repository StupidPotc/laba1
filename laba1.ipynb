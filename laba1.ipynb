{
 "cells": [
  {
   "cell_type": "markdown",
   "metadata": {},
   "source": [
    "## Изначально покоившеесятело массой 2кг начинает соскальзывать с наклонной плоскости. За некоторый промежуток времени сила тяжести совершает над телом механическую работу 10 Дж, при этом выделяется количество теплоты 1 Дж. Определите модуль импульса, который в результате этого приобретает тело.<h1>\n",
    "    \n"
   ]
  },
  {
   "cell_type": "markdown",
   "metadata": {},
   "source": [
    "![](http://img1.reactor.cc/pics/post/гифки-котейка-сполз-4207845.gif)"
   ]
  },
  {
   "cell_type": "markdown",
   "metadata": {},
   "source": [
    "### Дано:<h3>\n",
    "m=2 кг, А=10 Дж, Q=1 Дж, |p|-?\n",
    "   \n",
    "\n",
    "    "
   ]
  },
  {
   "cell_type": "markdown",
   "metadata": {},
   "source": [
    "### Решение:<h3>"
   ]
  },
  {
   "cell_type": "markdown",
   "metadata": {},
   "source": [
    "При условии, что изначально тело покоилось, работа силы тяжести пойдёт на увеличение кинетической энергии тела и нагрев"
   ]
  },
  {
   "cell_type": "markdown",
   "metadata": {},
   "source": [
    "\n",
    "$$ A = E_{k} + Q = \\frac{p^2}{2m}+Q$$"
   ]
  },
  {
   "cell_type": "markdown",
   "metadata": {},
   "source": [
    "Найдём отсюда величину приобретённого модуля импульса:"
   ]
  },
  {
   "cell_type": "code",
   "execution_count": 1,
   "metadata": {},
   "outputs": [
    {
     "data": {
      "text/latex": [
       "$$ p = \\sqrt{2m(A - Q)} = \\sqrt{2 * 2 * 9} = 6 кг * м/с$$\n"
      ],
      "text/plain": [
       "<IPython.core.display.Latex object>"
      ]
     },
     "metadata": {},
     "output_type": "display_data"
    }
   ],
   "source": [
    "%%latex\n",
    "$$ p = \\sqrt{2m(A - Q)} = \\sqrt{2 * 2 * 9} = 6 кг * м/с$$"
   ]
  },
  {
   "cell_type": "markdown",
   "metadata": {},
   "source": [
    "Ответ: 6 кг * м/с\n"
   ]
  }
 ],
 "metadata": {
  "kernelspec": {
   "display_name": "Python 3",
   "language": "python",
   "name": "python3"
  },
  "language_info": {
   "codemirror_mode": {
    "name": "ipython",
    "version": 3
   },
   "file_extension": ".py",
   "mimetype": "text/x-python",
   "name": "python",
   "nbconvert_exporter": "python",
   "pygments_lexer": "ipython3",
   "version": "3.8.3"
  }
 },
 "nbformat": 4,
 "nbformat_minor": 4
}
